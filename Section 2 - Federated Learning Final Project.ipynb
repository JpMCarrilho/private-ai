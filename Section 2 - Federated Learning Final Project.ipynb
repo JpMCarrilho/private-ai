{
 "cells": [
  {
   "cell_type": "markdown",
   "metadata": {},
   "source": [
    "# Section Project:\n",
    "\n",
    "For the final project for this section, you're going to train on the MNIST dataset using federated learning However the gradient should not come up to central server in raw form"
   ]
  },
  {
   "cell_type": "code",
   "execution_count": 1,
   "metadata": {},
   "outputs": [
    {
     "name": "stderr",
     "output_type": "stream",
     "text": [
      "WARNING:tf_encrypted:Falling back to insecure randomness since the required custom op could not be found for the installed version of TensorFlow. Fix this by compiling custom ops. Missing file was '/home/jpmc/anaconda3/envs/pysyft/lib/python3.7/site-packages/tf_encrypted/operations/secure_random/secure_random_module_tf_1.14.0.so'\n"
     ]
    },
    {
     "name": "stdout",
     "output_type": "stream",
     "text": [
      "WARNING:tensorflow:From /home/jpmc/anaconda3/envs/pysyft/lib/python3.7/site-packages/tf_encrypted/session.py:26: The name tf.Session is deprecated. Please use tf.compat.v1.Session instead.\n",
      "\n"
     ]
    },
    {
     "name": "stderr",
     "output_type": "stream",
     "text": [
      "WARNING:tensorflow:From /home/jpmc/anaconda3/envs/pysyft/lib/python3.7/site-packages/tf_encrypted/session.py:26: The name tf.Session is deprecated. Please use tf.compat.v1.Session instead.\n",
      "\n"
     ]
    }
   ],
   "source": [
    "import numpy as np\n",
    "import torch as th\n",
    "from torchvision import datasets,transforms\n",
    "from torch.utils.data import Subset\n",
    "import torch.nn as nn\n",
    "import torch.nn.functional as F\n",
    "import torch.optim as optim\n",
    "import syft as sy\n",
    "hook = sy.TorchHook(th)"
   ]
  },
  {
   "cell_type": "code",
   "execution_count": 2,
   "metadata": {},
   "outputs": [],
   "source": [
    "bob = sy.VirtualWorker(hook,id=\"bob\")\n",
    "alice = sy.VirtualWorker(hook,id=\"alice\")"
   ]
  },
  {
   "cell_type": "code",
   "execution_count": 3,
   "metadata": {},
   "outputs": [],
   "source": [
    "transform = transforms.Compose([transforms.ToTensor(),\n",
    "                                transforms.Normalize((0.5,), (0.5,))])\n",
    "\n",
    "# Load the train and test data by using the transform\n",
    "train_data = datasets.MNIST(root='data', train=True, download=True, transform=transform)\n",
    "test_data = datasets.MNIST(root='data', train=False, download=True, transform=transform)"
   ]
  },
  {
   "cell_type": "code",
   "execution_count": 4,
   "metadata": {},
   "outputs": [],
   "source": [
    "num_workers = 2\n",
    "batch_size = 32\n",
    "teacher_loaders = []\n",
    "data_size = len(train_data)//num_workers\n",
    "alices_indices = list(range(0,data_size))\n",
    "bobs_indices = list(range(data_size+1, data_size*num_workers))\n",
    "alices_data = Subset(train_data,alices_indices)\n",
    "alices_loader = th.utils.data.DataLoader(alices_data, batch_size = batch_size,shuffle=True)\n",
    "bobs_data = Subset(train_data,bobs_indices)\n",
    "bobs_loader = th.utils.data.DataLoader(bobs_data, batch_size = batch_size,shuffle=True)"
   ]
  },
  {
   "cell_type": "code",
   "execution_count": 5,
   "metadata": {},
   "outputs": [
    {
     "name": "stdout",
     "output_type": "stream",
     "text": [
      "Network(\n",
      "  (fc1): Linear(in_features=784, out_features=128, bias=True)\n",
      "  (fc2): Linear(in_features=128, out_features=64, bias=True)\n",
      "  (output): Linear(in_features=64, out_features=10, bias=True)\n",
      ")\n"
     ]
    }
   ],
   "source": [
    "class Network(nn.Module):\n",
    "    def __init__(self):\n",
    "        super().__init__()\n",
    "        # Inputs to hidden layer linear transformation\n",
    "        self.fc1 = nn.Linear(784, 128)\n",
    "        self.fc2 = nn.Linear(128,64)\n",
    "        # Output layer, 10 units - one for each digit\n",
    "        self.output = nn.Linear(64, 10)\n",
    "        \n",
    "    def forward(self, x):\n",
    "        # Hidden layer with sigmoid activation\n",
    "        x = F.relu(self.fc1(x))\n",
    "        x = F.relu(self.fc2(x))\n",
    "        # Output layer with softmax activation\n",
    "        x = F.log_softmax(self.output(x),dim=1)\n",
    "        \n",
    "        return x\n",
    "model = Network()\n",
    "print(model)"
   ]
  },
  {
   "cell_type": "code",
   "execution_count": 6,
   "metadata": {},
   "outputs": [
    {
     "data": {
      "image/png": "[encoded data removed]",
      "text/plain": [
       "<Figure size 432x648 with 2 Axes>"
      ]
     },
     "metadata": {
      "needs_background": "light"
     },
     "output_type": "display_data"
    }
   ],
   "source": [
    "%matplotlib inline\n",
    "import helper\n",
    "images, labels = next(iter(alices_loader))\n",
    "\n",
    "img = images[0].view(1, 784)\n",
    "# Turn off gradients to speed up this part\n",
    "with th.no_grad():\n",
    "    logps =model(img)\n",
    "\n",
    "# Output of the network are log-probabilities, need to take exponential for probabilities\n",
    "\n",
    "ps = th.exp(logps)\n",
    "helper.view_classify(img.view(1, 28, 28), ps)"
   ]
  },
  {
   "cell_type": "code",
   "execution_count": 7,
   "metadata": {},
   "outputs": [
    {
     "name": "stdout",
     "output_type": "stream",
     "text": [
      "Round: 0\n",
      " Bobs Training loss: 0.5454689264297485\n",
      " Alices Training loss: 0.5398927927017212\n",
      "Round: 1\n",
      " Bobs Training loss: 0.21711744368076324\n",
      " Alices Training loss: 0.22931382060050964\n",
      "Round: 2\n",
      " Bobs Training loss: 0.16093729436397552\n",
      " Alices Training loss: 0.18055693805217743\n",
      "Round: 3\n",
      " Bobs Training loss: 0.13053102791309357\n",
      " Alices Training loss: 0.1551971584558487\n",
      "Round: 4\n",
      " Bobs Training loss: 0.10796307027339935\n",
      " Alices Training loss: 0.14176616072654724\n"
     ]
    }
   ],
   "source": [
    "num_rounds = 5\n",
    "n_epochs = 1\n",
    "bobs_criterion = nn.NLLLoss().send(bob)\n",
    "alices_criterion = nn.NLLLoss().send(alice)\n",
    "\n",
    "for round_iter in range(num_rounds):\n",
    "    print(\"Round: \" + str(round_iter))\n",
    "    bobs_model = model.copy().send(bob)\n",
    "    alices_model = model.copy().send(alice)\n",
    "    \n",
    "    bobs_opt = optim.SGD(params= bobs_model.parameters(), lr = 0.1)\n",
    "    alices_opt = optim.SGD(params = alices_model.parameters(),lr = 0.1)\n",
    "    b_running_loss = 0\n",
    "    a_running_loss = 0\n",
    "    for i in range(n_epochs):\n",
    "        #print(\"Epoch Number: \" + str(i))\n",
    "        for images,labels in bobs_loader:\n",
    "            bobs_opt.zero_grad()\n",
    "            images = images.view(images.shape[0], -1)\n",
    "            bobs_pred = bobs_model(images.send(bob))\n",
    "            bobs_loss = bobs_criterion(bobs_pred,labels.send(bob))\n",
    "            bobs_loss.backward()\n",
    "        \n",
    "            bobs_opt.step()\n",
    "            bobs_loss= bobs_loss.get().data\n",
    "            b_running_loss += bobs_loss\n",
    "        else:\n",
    "            print(f\" Bobs Training loss: {b_running_loss/len(bobs_loader)}\")\n",
    "        for images, labels in alices_loader:\n",
    "            alices_opt.zero_grad()\n",
    "            images = images.view(images.shape[0], -1)\n",
    "            alices_pred = alices_model(images.send(alice))\n",
    "            alices_loss = alices_criterion(alices_pred,labels.send(alice))\n",
    "            alices_loss.backward()\n",
    "        \n",
    "            alices_opt.step()\n",
    "            alices_loss= alices_loss.get().data\n",
    "            a_running_loss += alices_loss\n",
    "        else:\n",
    "            print(f\" Alices Training loss: {a_running_loss/len(alices_loader)}\")\n",
    "    \n",
    "    alices_model.move(bob)\n",
    "    with th.no_grad():\n",
    "        bobs_model.fc1.weight.set_(((alices_model.fc1.weight.data + bobs_model.fc1.weight.data)/2))\n",
    "        bobs_model.fc1.bias.set_(((alices_model.fc1.bias.data + bobs_model.fc1.bias.data)/2))\n",
    "        bobs_model.fc2.weight.set_(((alices_model.fc2.weight.data + bobs_model.fc2.weight.data)/2))\n",
    "        bobs_model.fc2.bias.set_(((alices_model.fc2.bias.data + bobs_model.fc2.bias.data)/2))\n",
    "        bobs_model.output.weight.set_(((alices_model.output.weight.data + bobs_model.output.weight.data)/2))\n",
    "        bobs_model.output.bias.set_(((alices_model.output.bias.data + bobs_model.output.bias.data)/2))\n",
    "    model = bobs_model.get()\n",
    "    \n",
    "    #print(\"Bob: \" + str(bobs_loss) + \" Alice: \" + str(alices_loss))"
   ]
  },
  {
   "cell_type": "code",
   "execution_count": 8,
   "metadata": {},
   "outputs": [
    {
     "data": {
      "image/png": "[encoded data removed]",
      "text/plain": [
       "<Figure size 432x648 with 2 Axes>"
      ]
     },
     "metadata": {
      "needs_background": "light"
     },
     "output_type": "display_data"
    }
   ],
   "source": [
    "images, labels = next(iter(alices_loader))\n",
    "\n",
    "img = images[0].view(1, 784)\n",
    "# Turn off gradients to speed up this part\n",
    "with th.no_grad():\n",
    "    logps =model(img)\n",
    "\n",
    "# Output of the network are log-probabilities, need to take exponential for probabilities\n",
    "\n",
    "ps = th.exp(logps)\n",
    "helper.view_classify(img.view(1, 28, 28), ps)"
   ]
  },
  {
   "cell_type": "code",
   "execution_count": null,
   "metadata": {},
   "outputs": [],
   "source": []
  }
 ],
 "metadata": {
  "kernelspec": {
   "display_name": "Python 3",
   "language": "python",
   "name": "python3"
  },
  "language_info": {
   "codemirror_mode": {
    "name": "ipython",
    "version": 3
   },
   "file_extension": ".py",
   "mimetype": "text/x-python",
   "name": "python",
   "nbconvert_exporter": "python",
   "pygments_lexer": "ipython3",
   "version": "3.7.4"
  }
 },
 "nbformat": 4,
 "nbformat_minor": 2
}
